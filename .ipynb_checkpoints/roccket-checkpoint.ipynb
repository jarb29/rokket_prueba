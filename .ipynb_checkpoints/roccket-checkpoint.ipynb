{
 "cells": [
  {
   "cell_type": "markdown",
   "metadata": {},
   "source": [
    "Write a function called \"rokket\" which produces the following output when called:\n",
    "console.log(rokket(2)(5)(3)) // this outputs 30\n",
    "console.log(rokket(4)(2)(2)) // this outputs 16\n",
    "console.log(rokket(8)(2)(1)) // this also outputs 16\n",
    "This function must work for any three integer numbers."
   ]
  }
 ],
 "metadata": {
  "kernelspec": {
   "display_name": "Python 3",
   "language": "python",
   "name": "python3"
  },
  "language_info": {
   "codemirror_mode": {
    "name": "ipython",
    "version": 3
   },
   "file_extension": ".py",
   "mimetype": "text/x-python",
   "name": "python",
   "nbconvert_exporter": "python",
   "pygments_lexer": "ipython3",
   "version": "3.7.4"
  }
 },
 "nbformat": 4,
 "nbformat_minor": 4
}
